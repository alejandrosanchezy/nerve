{
 "cells": [
  {
   "cell_type": "markdown",
   "metadata": {},
   "source": [
    "# Forma canónica de Jordan"
   ]
  },
  {
   "cell_type": "markdown",
   "metadata": {},
   "source": [
    "Considere un espacio vectorial $V$ de dimensión finita $n>0$ sobre un cuerpo $\\mathbb{K}$ y $T$ un endomorfismo de $V$ cuyos valores distintos son $\\lambda_1, \\cdots, \\lambda_r\\in \\mathbb{K}$ de multiplicidades $m_1,\\cdots m_r$, respectivamente. "
   ]
  },
  {
   "cell_type": "markdown",
   "metadata": {},
   "source": [
    "Se sabe que no todos los endomorfismo de $V$ son diagonalizables, es decir, que en general no se puede encontrar una base de $V$ tal que la matriz $T$ sea diagonal. El objetivo de la forma canónica de Jordan es determinar una base de $V$ de tal forma que $T$ sea diagonalizable por bloques de Jordan. ¿Pero qué es un bloque de Jordan? ¿Y qué quiere decir diagonalizable por bloques de Jordan?"
   ]
  },
  {
   "cell_type": "markdown",
   "metadata": {},
   "source": [
    "**Definición.** *Un **bloque de Jordan** de orden $s$ es una matriz cuadrada con $s$ filas y $s$ columnas que tiene todas las entradas de la diagonal principal identicas, la diagonal por encima de ésta está formada por $1$ y las restantes entradas son cero, es decir $B\\in M_s(\\mathbb{K})$ es un bloque de jordan si*:"
   ]
  },
  {
   "cell_type": "markdown",
   "metadata": {},
   "source": [
    "\\begin{equation}\n",
    "b_{ij} = \\begin{cases}\n",
    "\\lambda & \\mbox{si $i=j$};\\\\\n",
    "1 & \\mbox{si $i+1 = j$};\\\\\n",
    "0 & \\mbox{en otro caso}.\n",
    "\\end{cases}\n",
    "\\end{equation}"
   ]
  },
  {
   "cell_type": "markdown",
   "metadata": {},
   "source": [
    "*para algún $\\lambda\\in \\mathbb{K}$.*"
   ]
  },
  {
   "cell_type": "markdown",
   "metadata": {},
   "source": [
    "Obsérvese que un bloque de Jordan de orden $s$ no es otra cosa que la suma de una matriz diagonal $D_{\\lambda} \\in M_{s}(\\mathbb{K})$ y un matriz nilpotente:"
   ]
  },
  {
   "cell_type": "markdown",
   "metadata": {},
   "source": [
    "\\begin{equation}\n",
    "N = \\left(\\begin{array}{ccccc}\n",
    "0 & 1 & \\dots & 0 & 0 \\\\\n",
    "0 & 0 & \\ddots & 0 & 0 \\\\\n",
    "\\vdots & \\vdots & \\ddots & \\ddots & \\vdots \\\\\n",
    "0 & 0 & \\dots & 0 & 1 \\\\\n",
    "0 & 0 & \\dots & 0 & 0\n",
    "\\end{array}\n",
    "\\right) \\in M_s(\\mathbb{K})\n",
    "\\end{equation}"
   ]
  },
  {
   "cell_type": "markdown",
   "metadata": {},
   "source": [
    "tal que $N^{s-1}\\neq 0$ y $N^{s}=0$."
   ]
  },
  {
   "cell_type": "markdown",
   "metadata": {},
   "source": [
    "**Definición.** *Una **matriz de Jordan** es una matriz diagonal por bloques de manera que cada bloque es de Jordan, esto es, $J\\in M_n(\\mathbb{K})$ es de Jordan si:*"
   ]
  },
  {
   "cell_type": "markdown",
   "metadata": {},
   "source": [
    "\\begin{equation}\n",
    "J = \\left(\\begin{array}{cccc}\n",
    "B_1 & 0 & \\dots & 0 \\\\\n",
    "0 & B_2 & \\dots & 0 \\\\\n",
    "\\vdots & \\vdots & \\ddots & \\vdots \\\\\n",
    "0 & 0 & \\dots & B_r &\n",
    "\\end{array}\n",
    "\\right),\n",
    "\\end{equation}"
   ]
  },
  {
   "cell_type": "markdown",
   "metadata": {},
   "source": [
    "*donde cada $B_i$, $i = 1, \\dots, r$ es un bloque de Jordan.*"
   ]
  },
  {
   "cell_type": "markdown",
   "metadata": {},
   "source": [
    "Se puede demostrar, que si todos los autovalores de de $T$ están en $\\mathbb{K}$ entonces existe una base $\\mathcal{B}$ de $V$ tal que la matriz asociada a $T$ respecto de $\\mathcal{B}$ es una matriz de Jordan. La base $\\mathcal{B}$ se llama base de Jordan de $T$, y ésta es única salvo permutación de los bloque de Jordan. Para ver detalles de esta demostración, consultar en [Ignacio Ojeda et al. 2008. Métodos matemáticos para estadística](https://dialnet.unirioja.es/servlet/libro?codigo=660713)."
   ]
  },
  {
   "cell_type": "markdown",
   "metadata": {},
   "source": [
    "Dicho de otro modo, para *toda matriz cuadrada con coeficientes en $\\mathbb{K}$ tal que todos sus autovalores están en $\\mathbb{K}$, es semejante a una matriz de Jordan; en particular, a una matriz triangular de superior.*"
   ]
  },
  {
   "cell_type": "markdown",
   "metadata": {},
   "source": [
    "**Ejemplo:** *Si $T$ es diagonalizable entonces su forma canónica de Jordan es:*"
   ]
  },
  {
   "cell_type": "markdown",
   "metadata": {},
   "source": [
    "\\begin{equation}\n",
    "J = \\left(\\begin{array}{cccc}\n",
    "\\mu_1 & 0 & \\dots & 0 \\\\\n",
    "0 & \\mu_2 & \\dots & 0 \\\\\n",
    "\\vdots & \\vdots & \\ddots & \\vdots \\\\\n",
    "0 & 0 & \\dots & \\mu_r &\n",
    "\\end{array}\n",
    "\\right),\n",
    "\\end{equation}"
   ]
  },
  {
   "cell_type": "markdown",
   "metadata": {},
   "source": [
    "*donde $\\mu_i$, $i=1,\\dots, n$ son los autovalores de $T$ repetidos tantas veces como indique su multiplicidad. Dicho de otro modo, $T$ es diagonalizable si, y sólo si, los bloques de Jordan en su forma canónica tienen orden $1$.*"
   ]
  },
  {
   "cell_type": "markdown",
   "metadata": {},
   "source": [
    "A continuación se van a introducir una serie de subespacios invariantes que son necesarios para construir la base de Jordan y se verán sus propiedades más relevantes. "
   ]
  },
  {
   "cell_type": "markdown",
   "metadata": {},
   "source": [
    "**Definición.** *Para cada $i\\in \\{1,\\dots, r\\}$ y $j\\leq 0$, se llama subespacio propio generalizado asociado al autovalores $\\lambda_i$ a $$L_{i, j}=\\ker \\big((\\lambda_i I - T)^{j}\\big).$$*"
   ]
  },
  {
   "cell_type": "markdown",
   "metadata": {},
   "source": [
    "Nótese que $L_{i0}=\\ker \\big((\\lambda_i I - T)^{0}\\big)=\\ker(I)=\\{0\\}$, para todo $i=1,\\dots,r$."
   ]
  },
  {
   "cell_type": "code",
   "execution_count": null,
   "metadata": {},
   "outputs": [],
   "source": []
  }
 ],
 "metadata": {
  "kernelspec": {
   "display_name": "Python 3",
   "language": "python",
   "name": "python3"
  },
  "language_info": {
   "codemirror_mode": {
    "name": "ipython",
    "version": 3
   },
   "file_extension": ".py",
   "mimetype": "text/x-python",
   "name": "python",
   "nbconvert_exporter": "python",
   "pygments_lexer": "ipython3",
   "version": "3.9.2"
  }
 },
 "nbformat": 4,
 "nbformat_minor": 4
}
