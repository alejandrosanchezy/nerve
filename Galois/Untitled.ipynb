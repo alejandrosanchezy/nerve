{
 "cells": [
  {
   "cell_type": "markdown",
   "id": "6c03e00f-9961-4e14-b9b5-8d2f2b9668f1",
   "metadata": {},
   "source": [
    "## ¿Cómo construir en Python otros conjuntos númericos?"
   ]
  },
  {
   "cell_type": "markdown",
   "id": "0fd0ea20-f757-449d-8bb4-0fb5623d75c4",
   "metadata": {},
   "source": [
    "Existen muchos problemas de las ciencias computacionales que son más sencillos de resolver, si se cuenta con conjuntos númericos diferentes a $\\mathbb{N}$, $\\mathbb{Z}$, $\\mathbb{Q}$, $\\mathbb{R}$,  o $\\mathbb{C}$. Por ejemplo, hay problemas que se modelan con grafos y en ocasiones la matrices de incidencia que describen a estas estructuras es mejor estudiarlas en un conjunto númerico como $\\mathbb{Z}_2$. Entonces surge la pregunta ¿Cómo podemos construir en Python un conjuto númerico personalizado, en donde las operaciones clásicas de suma, resta, multiplicación y división las podamos definir a nuestro antojo? En Python, las clases cuenta con unos métodos especiales que se pueden redefinir y nos permite construir otros conjuntos númericos que se puede comportar de acuerdo a nuestra necesidad. Para entender cómo podemos hacer esto, voy a enseñarles como contruir una clase que nos permita hacer álgebra lineal utilizando el campo finito de $\\mathbb{Z}_p$, en donde $p$ es un número primo."
   ]
  },
  {
   "cell_type": "markdown",
   "id": "16ba05e6-350d-4f5b-82d1-a8d9ec33c17a",
   "metadata": {},
   "source": [
    "Entonces para empezamos vamos a definir una clase para $\\mathbb{Z}_p$ en donde vamos a redefinir las cuatro operaciones fundamentales, suma, resta, división y multiplicación, todas bajo el modulo de $p$, la estructura sería algo así:"
   ]
  },
  {
   "cell_type": "code",
   "execution_count": 114,
   "id": "5097a92a-c366-4054-9416-83b3b3ebeddd",
   "metadata": {},
   "outputs": [],
   "source": [
    "from __future__ import annotations\n",
    "\n",
    "\n",
    "class Zp:\n",
    "    \n",
    "    def __init__(self, prime: int = 2):\n",
    "        self.prime = prime\n",
    "        self.value = None\n",
    "        \n",
    "    def __call__(self, value: int) -> Zp:\n",
    "        mod = self.__class__(self.prime)\n",
    "        mod.value = value % self.prime\n",
    "        return mod\n",
    "        \n",
    "    def __repr__(self) -> str:\n",
    "        return str('{} (mod {})'.format(self.value, self.prime))"
   ]
  },
  {
   "cell_type": "markdown",
   "id": "579a3fea-abc5-4dfb-9e28-c8f307653a68",
   "metadata": {},
   "source": [
    "Observe que el valor de `prime` debe ser un número primo para que $\\mathbb{Z}_{p}$ en efecto sea un campo númerico. Por el momento no vamos a validar que la variable de `prime` deberá ser agregada a criterio del usuario. "
   ]
  },
  {
   "cell_type": "markdown",
   "id": "c5390131-e4c0-4d46-840b-9f4c709896aa",
   "metadata": {},
   "source": [
    "Las clases tiene un serie de métodos con un significado especial. Por ejemplo, ya conocemos el significado del método `__init__(self, arg)` que se utiliza como constructur de clase, pero hay también muy interesantes, como los que usamos en la definición de la clase `Zp`, `__call__(self, args)` y `__repr__(self)`. En el transcurso de este post a hacer de otros más. Por el momento veamos porque usamos estos métodos."
   ]
  },
  {
   "cell_type": "markdown",
   "id": "f9ffec7e-a32a-4546-861b-0dcf7294e465",
   "metadata": {},
   "source": [
    "`__call__` se utiliza para hacer que cada instancia de una clase se pueda llamas como un función, de modo que si se tiene una instancia como z2 = Zp(2), entonces podemos definer cada elemento de $\\mathbb{Z}_{2}$ como `z2(1), z2(2), z2(3), ...`. En reliadad esto es un atajo a `z2.__call__(value)`. Veamos los resultados"
   ]
  },
  {
   "cell_type": "code",
   "execution_count": 115,
   "id": "037bc465-a785-4f62-bdfb-02599d6d51ec",
   "metadata": {},
   "outputs": [],
   "source": [
    "mod2 = Zp(2)"
   ]
  },
  {
   "cell_type": "markdown",
   "id": "cc515dff-9b17-4b34-bf6e-8b1a770b4202",
   "metadata": {},
   "source": [
    "En esta linea se ha instanciado el conjunto $\\mathbb{Z}_{2}$, para hacer uso de sus elementos debemos hacer lo siguiente:"
   ]
  },
  {
   "cell_type": "code",
   "execution_count": 116,
   "id": "470035d3-095a-460d-8dd2-b5d5f12ead29",
   "metadata": {},
   "outputs": [
    {
     "data": {
      "text/plain": [
       "0 (mod 2)"
      ]
     },
     "execution_count": 116,
     "metadata": {},
     "output_type": "execute_result"
    }
   ],
   "source": [
    "mod2(2)"
   ]
  },
  {
   "cell_type": "code",
   "execution_count": 117,
   "id": "ce665524-6bf5-4e3b-8aa2-48a487f347eb",
   "metadata": {},
   "outputs": [
    {
     "data": {
      "text/plain": [
       "1 (mod 2)"
      ]
     },
     "execution_count": 117,
     "metadata": {},
     "output_type": "execute_result"
    }
   ],
   "source": [
    "mod2(3)"
   ]
  },
  {
   "cell_type": "code",
   "execution_count": 118,
   "id": "9e8d02bf-eb39-4b1a-95a5-a9eaa01b6f9e",
   "metadata": {},
   "outputs": [
    {
     "data": {
      "text/plain": [
       "0 (mod 2)"
      ]
     },
     "execution_count": 118,
     "metadata": {},
     "output_type": "execute_result"
    }
   ],
   "source": [
    "mod2(4)"
   ]
  },
  {
   "cell_type": "markdown",
   "id": "022a2a4c-ef1c-4d18-b6ce-662a3810be0c",
   "metadata": {},
   "source": [
    "Acá la representación de $z2(n)$ se ha definido mediante el método `__repr__` , el cual permite convertir un objeto a una cadena, de mode que se puede llamar a la función interna `__repr__` sobre el objeto. Normalmente esta cadena tiene el aspecto de una expresión Python que podría usarse para recrear otro objeto con el mismo valor, o una cadena descriptiva en el caso de objetos complejos que podrían tener una representación complicada.  "
   ]
  },
  {
   "cell_type": "markdown",
   "id": "d0aee7bc-0256-405c-ac59-d395751b9d9f",
   "metadata": {},
   "source": [
    "Procedamos ahora a construir las cuatro operaciones fundamentales, suma, resta, división y multiplicación, todas bajo el modulo de 𝑝. Por ejemplo para la suma se define el método de la siguiente forma:"
   ]
  },
  {
   "cell_type": "code",
   "execution_count": 119,
   "id": "28a1dd70-f92f-4a3e-bdb0-e167939407e4",
   "metadata": {},
   "outputs": [],
   "source": [
    "def __add__(self, other: Zn) -> Zn:\n",
    "    if not self.prime == other.prime:\n",
    "        raise AssertionError(\"Different fields ...\")\n",
    "    mod = self.__class__(self.prime)\n",
    "    return mod(self.value + other.value) "
   ]
  },
  {
   "cell_type": "markdown",
   "id": "b2f0affc-1d16-43a9-b776-aaac1722e614",
   "metadata": {},
   "source": [
    "Es importante que el lector observe que para poder sumar dos valores $x, y$ estos deben pertenecer al mismo campo, en otras palabras que pertenezcan al mismo campo $\\mathbb{Z}_p$ y de tal manera que la suma se define como $x + y\\,\\,(mod\\,p)$."
   ]
  },
  {
   "cell_type": "markdown",
   "id": "4af6b1d1-2425-4d82-956c-4c470433fd0b",
   "metadata": {},
   "source": [
    "Así nuestro clase quedaría así:"
   ]
  },
  {
   "cell_type": "code",
   "execution_count": 120,
   "id": "ec623325-69ef-486c-b2da-114c5d363e0d",
   "metadata": {},
   "outputs": [],
   "source": [
    "from __future__ import annotations\n",
    "\n",
    "\n",
    "class Zn:\n",
    "    def __init__(self, prime: int = 2):\n",
    "        self.prime = prime\n",
    "        self.value = None\n",
    "        \n",
    "    def __call__(self, value: int) -> Zn:\n",
    "        mod = self.__class__(self.prime)\n",
    "        mod.value = value % self.prime\n",
    "        return mod\n",
    "        \n",
    "    def __repr__(self) -> str:\n",
    "        return str('{} (mod {})'.format(self.value, self.prime))\n",
    "    \n",
    "    def __add__(self, other: Zn) -> Zn:\n",
    "        if not self.prime == other.prime:\n",
    "            raise AssertionError(\"Different fields ...\")\n",
    "        mod = self.__class__(self.prime)\n",
    "        return mod(self.value + other.value)"
   ]
  },
  {
   "cell_type": "markdown",
   "id": "09779e1b-5864-4c99-b962-dfabccd08632",
   "metadata": {},
   "source": [
    "Veamos si la suma está funcionando bien, por ejemplo tomemos $3, 7 \\in \\mathbb{Z}_4$ y $3, 7 \\in \\mathbb{Z}_5$, y calculemos su suma:"
   ]
  },
  {
   "cell_type": "code",
   "execution_count": 127,
   "id": "f846423b-54e6-4c5d-9bec-ef245213b66e",
   "metadata": {},
   "outputs": [],
   "source": [
    "mod4 = Zn(4)\n",
    "mod5 = Zn(5)"
   ]
  },
  {
   "cell_type": "code",
   "execution_count": 128,
   "id": "40536ef7-eb9e-40cb-acfd-5195dc436ef7",
   "metadata": {},
   "outputs": [],
   "source": [
    "a = mod4(3)\n",
    "b = mod4(7)"
   ]
  },
  {
   "cell_type": "code",
   "execution_count": 129,
   "id": "1d761fd8-30f1-48e7-9069-468d5afbaec9",
   "metadata": {},
   "outputs": [
    {
     "data": {
      "text/plain": [
       "2 (mod 4)"
      ]
     },
     "execution_count": 129,
     "metadata": {},
     "output_type": "execute_result"
    }
   ],
   "source": [
    "a + b"
   ]
  },
  {
   "cell_type": "code",
   "execution_count": 130,
   "id": "fc8825ad-98aa-4782-b8f3-a9bfdc53f57e",
   "metadata": {},
   "outputs": [],
   "source": [
    "c = mod5(3)\n",
    "d = mod5(7)"
   ]
  },
  {
   "cell_type": "code",
   "execution_count": 131,
   "id": "15c3116b-7f05-44c4-a577-970f07f2db81",
   "metadata": {},
   "outputs": [
    {
     "data": {
      "text/plain": [
       "0 (mod 5)"
      ]
     },
     "execution_count": 131,
     "metadata": {},
     "output_type": "execute_result"
    }
   ],
   "source": [
    "c + d"
   ]
  },
  {
   "cell_type": "markdown",
   "id": "9d2c0d65-4a46-485d-b588-ea80ce005c98",
   "metadata": {},
   "source": [
    "¿Y que ocurre cuando se trata de suma $7\\in \\mathbb{Z}_4$ y $7\\in \\mathbb{Z}_7$?. Pues veamoslo:  "
   ]
  },
  {
   "cell_type": "code",
   "execution_count": 132,
   "id": "b96917aa-297c-4bfa-82f7-e6b51751dee1",
   "metadata": {},
   "outputs": [
    {
     "ename": "AssertionError",
     "evalue": "Different fields ...",
     "output_type": "error",
     "traceback": [
      "\u001b[0;31m---------------------------------------------------------------------------\u001b[0m",
      "\u001b[0;31mAssertionError\u001b[0m                            Traceback (most recent call last)",
      "\u001b[0;32m<ipython-input-132-32e611a3909a>\u001b[0m in \u001b[0;36m<module>\u001b[0;34m\u001b[0m\n\u001b[0;32m----> 1\u001b[0;31m \u001b[0mb\u001b[0m \u001b[0;34m+\u001b[0m \u001b[0mc\u001b[0m\u001b[0;34m\u001b[0m\u001b[0;34m\u001b[0m\u001b[0m\n\u001b[0m",
      "\u001b[0;32m<ipython-input-120-bb0cb5a7a4dc>\u001b[0m in \u001b[0;36m__add__\u001b[0;34m(self, other)\u001b[0m\n\u001b[1;32m     17\u001b[0m     \u001b[0;32mdef\u001b[0m \u001b[0m__add__\u001b[0m\u001b[0;34m(\u001b[0m\u001b[0mself\u001b[0m\u001b[0;34m,\u001b[0m \u001b[0mother\u001b[0m\u001b[0;34m:\u001b[0m \u001b[0mZn\u001b[0m\u001b[0;34m)\u001b[0m \u001b[0;34m->\u001b[0m \u001b[0mZn\u001b[0m\u001b[0;34m:\u001b[0m\u001b[0;34m\u001b[0m\u001b[0;34m\u001b[0m\u001b[0m\n\u001b[1;32m     18\u001b[0m         \u001b[0;32mif\u001b[0m \u001b[0;32mnot\u001b[0m \u001b[0mself\u001b[0m\u001b[0;34m.\u001b[0m\u001b[0mprime\u001b[0m \u001b[0;34m==\u001b[0m \u001b[0mother\u001b[0m\u001b[0;34m.\u001b[0m\u001b[0mprime\u001b[0m\u001b[0;34m:\u001b[0m\u001b[0;34m\u001b[0m\u001b[0;34m\u001b[0m\u001b[0m\n\u001b[0;32m---> 19\u001b[0;31m             \u001b[0;32mraise\u001b[0m \u001b[0mAssertionError\u001b[0m\u001b[0;34m(\u001b[0m\u001b[0;34m\"Different fields ...\"\u001b[0m\u001b[0;34m)\u001b[0m\u001b[0;34m\u001b[0m\u001b[0;34m\u001b[0m\u001b[0m\n\u001b[0m\u001b[1;32m     20\u001b[0m         \u001b[0mmod\u001b[0m \u001b[0;34m=\u001b[0m \u001b[0mself\u001b[0m\u001b[0;34m.\u001b[0m\u001b[0m__class__\u001b[0m\u001b[0;34m(\u001b[0m\u001b[0mself\u001b[0m\u001b[0;34m.\u001b[0m\u001b[0mprime\u001b[0m\u001b[0;34m)\u001b[0m\u001b[0;34m\u001b[0m\u001b[0;34m\u001b[0m\u001b[0m\n\u001b[1;32m     21\u001b[0m         \u001b[0;32mreturn\u001b[0m \u001b[0mmod\u001b[0m\u001b[0;34m(\u001b[0m\u001b[0mself\u001b[0m\u001b[0;34m.\u001b[0m\u001b[0mvalue\u001b[0m \u001b[0;34m+\u001b[0m \u001b[0mother\u001b[0m\u001b[0;34m.\u001b[0m\u001b[0mvalue\u001b[0m\u001b[0;34m)\u001b[0m\u001b[0;34m\u001b[0m\u001b[0;34m\u001b[0m\u001b[0m\n",
      "\u001b[0;31mAssertionError\u001b[0m: Different fields ..."
     ]
    }
   ],
   "source": [
    "b + c"
   ]
  },
  {
   "cell_type": "markdown",
   "id": "58bc0300-1763-4838-8930-5976ceb6bcf6",
   "metadata": {},
   "source": [
    "Es justamente lo que estabamos esperando, no se pueden sumar números que pertenecen a conjuntos númericos diferentes.  "
   ]
  },
  {
   "cell_type": "markdown",
   "id": "73b55551-98cc-425d-96fb-81cef51723ff",
   "metadata": {},
   "source": [
    "Como se puedo apreciar, el método `__add__(self, other)` permite definir como se va a usar el operador $+$, el primer parámetro es el primer operando de la suma, y el segudno parámetro es el segundo operando. Esto devuelve una nueva instancia, nunca modifica la clase actual. De la misma forma los métodos `__sub__(self, other)`, `__mul__(self, other)` y `__truediv__(self, other)` permiter redefinir los operadores $-$, $\\times$ y $/$."
   ]
  },
  {
   "cell_type": "markdown",
   "id": "0c1ca8c3-fdfd-46ce-a3ff-083dfb2f8395",
   "metadata": {},
   "source": [
    "Por lo tanto usando los métodos `__sub__` y `__mul__` se define la sustracción y la multiplicación para $\\mathbb{Z}_p$. En cuanto a la división se define una función `__inv_mul(self)` que mediante el algoritmo de Euclides posibilita calcular el inverso multiplitivo de cualquier elemento de $\\mathbb{Z}_p$, y haciendo uso de esta función se redefine la división usando el método `__truediv__`, de tal manera que nuestra clase quedaría así:"
   ]
  },
  {
   "cell_type": "code",
   "execution_count": 133,
   "id": "d343711d-d08a-4e61-8b12-2a87fbeac029",
   "metadata": {},
   "outputs": [],
   "source": [
    "from __future__ import annotations\n",
    "\n",
    "\n",
    "class Zn:\n",
    "    def __init__(self, prime: int = 2):\n",
    "        self.prime = prime\n",
    "        self.value = None\n",
    "        \n",
    "    def __call__(self, value: int) -> Zn:\n",
    "        mod = self.__class__(self.prime)\n",
    "        mod.value = value % self.prime\n",
    "        return mod\n",
    "        \n",
    "    def __repr__(self) -> str:\n",
    "        return str('{} (mod {})'.format(self.value, self.prime))\n",
    "    \n",
    "    def __add__(self, other: Zn) -> Zn:\n",
    "        if not self.prime == other.prime:\n",
    "            raise AssertionError(\"Different fields ...\")\n",
    "        mod = self.__class__(self.prime)\n",
    "        return mod(self.value + other.value)\n",
    "\n",
    "    def __sub__(self, other: Zn) -> Zn:\n",
    "        if not self.prime == other.prime:\n",
    "            raise AssertionError(\"Different fields ...\")\n",
    "        mod = self.__class__(self.prime)\n",
    "        return mod(self.value - other.value) \n",
    "    \n",
    "    def __mul__(self, other: Zn) -> Zn:\n",
    "        if not self.prime == other.prime:\n",
    "            raise AssertionError(\"Different fields ...\")\n",
    "        mod = self.__class__(self.prime)\n",
    "        return mod(self.value * other.value)\n",
    "    \n",
    "    def __truediv__(self, other: Zn) -> Zn:\n",
    "        if not self.prime == other.prime:\n",
    "            raise AssertionError(\"Different fields ...\")\n",
    "        mod = self.__class__(self.prime)\n",
    "        return mod(self.value * other.__inv__())\n",
    "    \n",
    "    def __inv__(self) -> int:\n",
    "        if self.value == 0:\n",
    "            raise ZeroDivisionError(\"The division for zero is not defined.\")\n",
    "        aux1 = 0\n",
    "        aux2 = 1\n",
    "        y = self.value\n",
    "        x = self.prime\n",
    "        while y != 0:\n",
    "            q, r = divmod(x, y)\n",
    "            x, y = y, r\n",
    "            aux1, aux2 = aux2, (aux1 - q * aux2)\n",
    "        if x == 1:\n",
    "            return aux1 % self.prime\n",
    "        else:\n",
    "            raise AssertionError(\"There is not the multiplicative inverse.\")"
   ]
  },
  {
   "cell_type": "code",
   "execution_count": 136,
   "id": "26c9184d-25f9-4d9a-a995-40f6e9d52114",
   "metadata": {},
   "outputs": [],
   "source": [
    "mod5 = Zn(5)"
   ]
  },
  {
   "cell_type": "code",
   "execution_count": 137,
   "id": "52bed7ce-ddb4-42c4-b2de-3124e5f24633",
   "metadata": {},
   "outputs": [],
   "source": [
    "a = mod5(7)\n",
    "b = mod5(13)"
   ]
  },
  {
   "cell_type": "code",
   "execution_count": 138,
   "id": "80a7e7ec-2720-4f6f-b736-069dc99bcdd2",
   "metadata": {},
   "outputs": [
    {
     "data": {
      "text/plain": [
       "2 (mod 5)"
      ]
     },
     "execution_count": 138,
     "metadata": {},
     "output_type": "execute_result"
    }
   ],
   "source": [
    "a"
   ]
  },
  {
   "cell_type": "code",
   "execution_count": 139,
   "id": "431d1798-1c3f-40da-a82a-d8c5e87851a8",
   "metadata": {},
   "outputs": [
    {
     "data": {
      "text/plain": [
       "3 (mod 5)"
      ]
     },
     "execution_count": 139,
     "metadata": {},
     "output_type": "execute_result"
    }
   ],
   "source": [
    "b"
   ]
  },
  {
   "cell_type": "code",
   "execution_count": 140,
   "id": "0f278f90-78df-4f1a-9a75-4ad8c4b7841b",
   "metadata": {},
   "outputs": [
    {
     "data": {
      "text/plain": [
       "4 (mod 5)"
      ]
     },
     "execution_count": 140,
     "metadata": {},
     "output_type": "execute_result"
    }
   ],
   "source": [
    "a - b"
   ]
  },
  {
   "cell_type": "code",
   "execution_count": 141,
   "id": "4f548ec6-590b-48de-9dea-c9e24aa78883",
   "metadata": {},
   "outputs": [
    {
     "data": {
      "text/plain": [
       "1 (mod 5)"
      ]
     },
     "execution_count": 141,
     "metadata": {},
     "output_type": "execute_result"
    }
   ],
   "source": [
    "a * b"
   ]
  },
  {
   "cell_type": "code",
   "execution_count": 142,
   "id": "039c37f6-0c86-4dc2-93b7-36c83ae5ba9a",
   "metadata": {},
   "outputs": [
    {
     "data": {
      "text/plain": [
       "4 (mod 5)"
      ]
     },
     "execution_count": 142,
     "metadata": {},
     "output_type": "execute_result"
    }
   ],
   "source": [
    "a / b"
   ]
  },
  {
   "cell_type": "code",
   "execution_count": 143,
   "id": "273a9c6a-a825-4cc1-9e1c-fe2dc452d10b",
   "metadata": {},
   "outputs": [],
   "source": [
    "mod6 = Zn(6)"
   ]
  },
  {
   "cell_type": "code",
   "execution_count": 144,
   "id": "00d90cff-b545-455a-951c-78539fdb25cd",
   "metadata": {},
   "outputs": [
    {
     "data": {
      "text/plain": [
       "4 (mod 6)"
      ]
     },
     "execution_count": 144,
     "metadata": {},
     "output_type": "execute_result"
    }
   ],
   "source": [
    "mod6(100)"
   ]
  },
  {
   "cell_type": "markdown",
   "id": "691b6688-8019-4e28-8d6f-c097f5a9039b",
   "metadata": {},
   "source": [
    "Para finalizar vamos a sobrescribir los operadores `=+` y `=-` mediante los métodos `__iadd__` y `__iadd__`. También vamos a definir el inverso aditivo mediante el método especial `__neg__`. El resultado sería:"
   ]
  },
  {
   "cell_type": "code",
   "execution_count": 147,
   "id": "e9600e35-1e4e-4328-ab05-c936e72260b0",
   "metadata": {},
   "outputs": [],
   "source": [
    "from __future__ import annotations\n",
    "\n",
    "\n",
    "class Zn:\n",
    "    def __init__(self, prime: int = 2):\n",
    "        self.prime = prime\n",
    "        self.value = None\n",
    "        \n",
    "    def __call__(self, value: int) -> Zn:\n",
    "        mod = self.__class__(self.prime)\n",
    "        mod.value = value % self.prime\n",
    "        return mod\n",
    "        \n",
    "    def __repr__(self) -> str:\n",
    "        return str('{} (mod {})'.format(self.value, self.prime))\n",
    "    \n",
    "    def __add__(self, other: Zn) -> Zn:\n",
    "        if not self.prime == other.prime:\n",
    "            raise AssertionError(\"Different fields ...\")\n",
    "        mod = self.__class__(self.prime)\n",
    "        return mod(self.value + other.value)\n",
    "    \n",
    "    def __iadd__(self, other: Zn) -> Zn:\n",
    "        if not self.prime == other.prime:\n",
    "            raise AssertionError(\"Different fields ...\")\n",
    "        mod = self.__class__(self.prime)\n",
    "        return mod(self.value)\n",
    "    \n",
    "    def __neg__(self) -> Zn:\n",
    "        mod = self.__class__(self.prime)\n",
    "        return mod(-self.value % self.prime)\n",
    "\n",
    "    def __sub__(self, other: Zn) -> Zn:\n",
    "        if not self.prime == other.prime:\n",
    "            raise AssertionError(\"Different fields ...\")\n",
    "        mod = self.__class__(self.prime)\n",
    "        return mod(self.value - other.value)    \n",
    "    \n",
    "    def __isub__(self, other: Zn) -> Zn:\n",
    "        if not self.prime == other.prime:\n",
    "            raise AssertionError(\"Different fields ...\")\n",
    "        mod = self.__class__(self.prime)\n",
    "        return mod(self.value)\n",
    "    \n",
    "    def __mul__(self, other: Zn) -> Zn:\n",
    "        if not self.prime == other.prime:\n",
    "            raise AssertionError(\"Different fields ...\")\n",
    "        mod = self.__class__(self.prime)\n",
    "        return mod(self.value * other.value)\n",
    "    \n",
    "    def __truediv__(self, other: Zn) -> Zn:\n",
    "        if not self.prime == other.prime:\n",
    "            raise AssertionError(\"Different fields ...\")\n",
    "        mod = self.__class__(self.prime)\n",
    "        return mod(self.value * other.__inv__())\n",
    "    \n",
    "    def __inv__(self) -> int:\n",
    "        if self.value == 0:\n",
    "            raise ZeroDivisionError(\"The division for zero is not defined.\")\n",
    "        aux1 = 0\n",
    "        aux2 = 1\n",
    "        y = self.value\n",
    "        x = self.prime\n",
    "        while y != 0:\n",
    "            q, r = divmod(x, y)\n",
    "            x, y = y, r\n",
    "            aux1, aux2 = aux2, (aux1 - q * aux2)\n",
    "        if x == 1:\n",
    "            return aux1 % self.prime\n",
    "        else:\n",
    "            raise AssertionError(\"There is not the multiplicative inverse.\")"
   ]
  },
  {
   "cell_type": "code",
   "execution_count": 149,
   "id": "47e6546e-8b37-4134-bb72-7bd52ba292a2",
   "metadata": {},
   "outputs": [
    {
     "name": "stderr",
     "output_type": "stream",
     "text": [
      "<ipython-input-149-0e29c4bf9af7>:10: DeprecationWarning: PyArray_SetNumericOps is deprecated. Use PyUFunc_ReplaceLoopBySignature to replace ufunc inner loop functions instead.\n",
      "  old_funcs = np.set_numeric_ops(add=add_mod2, multiply=mul_mod2)\n"
     ]
    }
   ],
   "source": [
    "import numpy as np\n",
    "\n",
    "\n",
    "def add_mod2(x, y):\n",
    "    return np.add(x, y) % 2\n",
    "\n",
    "\n",
    "def mul_mod2(x, y):\n",
    "    return  np.multiply(x, y) % 2\n",
    "old_funcs = np.set_numeric_ops(add=add_mod2, multiply=mul_mod2)"
   ]
  },
  {
   "cell_type": "code",
   "execution_count": null,
   "id": "6f1bddfc-45bc-46ce-864b-21e307c9ec99",
   "metadata": {},
   "outputs": [],
   "source": [
    "http://scielo.sld.cu/scielo.php?script=sci_arttext&pid=S2227-18992020000200098"
   ]
  },
  {
   "cell_type": "code",
   "execution_count": 11,
   "id": "00f88ae4-f6d6-4706-9286-0d1085c7bb06",
   "metadata": {},
   "outputs": [
    {
     "data": {
      "text/plain": [
       "1"
      ]
     },
     "execution_count": 11,
     "metadata": {},
     "output_type": "execute_result"
    }
   ],
   "source": [
    "-3%4"
   ]
  },
  {
   "cell_type": "code",
   "execution_count": null,
   "id": "c40d33e7-139f-4a1d-89af-d596c5879b64",
   "metadata": {},
   "outputs": [],
   "source": []
  }
 ],
 "metadata": {
  "kernelspec": {
   "display_name": "Python 3",
   "language": "python",
   "name": "python3"
  },
  "language_info": {
   "codemirror_mode": {
    "name": "ipython",
    "version": 3
   },
   "file_extension": ".py",
   "mimetype": "text/x-python",
   "name": "python",
   "nbconvert_exporter": "python",
   "pygments_lexer": "ipython3",
   "version": "3.9.4"
  }
 },
 "nbformat": 4,
 "nbformat_minor": 5
}
