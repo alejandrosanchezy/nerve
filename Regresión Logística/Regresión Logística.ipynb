{
 "cells": [
  {
   "cell_type": "markdown",
   "metadata": {},
   "source": [
    "# Regresión logística y el problema de clasificación"
   ]
  },
  {
   "cell_type": "markdown",
   "metadata": {},
   "source": [
    "La regresión lineal asume que existe una relación lineal entre dos variables $\\mathcal{X}$ y $\\mathcal{Y}$. Pero esto se viola rápidamente cuando la variable dependiente, $\\mathcal{Y}$ es una variable categórica. La **regresión logística** expresa la regresión lineal múltiple en terminos de un logaritmo, superando así la no linealidad. "
   ]
  },
  {
   "cell_type": "markdown",
   "metadata": {},
   "source": [
    "La regresión logística es uno de los métodos que se usan para el problema de clasificación. Usualmente se usa para estimar la probabilidad de que una **muestra** sea parte de una clases en particular (por ejemplo, ¿Cuál es la probabilidad de que una persona padeza cancer?). Si la probabilidad estimada es mayor que $50\\%$, entonces el modelo predice que la **muestra** pertenece a esa clase y sino entonces predice que no pertenece. Esto es lo que hace en principio un clasificador binario."
   ]
  },
  {
   "cell_type": "markdown",
   "metadata": {},
   "source": [
    "Como se mencióno al principio, el modelo de regresión se comporta pobremente cuando la variable $\\mathcal{Y}$ es una variable discreta o categórica. Para resolver esto, hay que cambiar la forma de la hipótesis $h_{\\theta}(x)$. Para esto se toma la familia de predictores de la forma, \n",
    "$$h_{\\theta}(x) = \\sigma(\\theta^\\top x) = \\frac{1}{1 + e^{\\theta^\\top x}},$$\n",
    "donde\n",
    "$$\\sigma(z) = \\frac{1}{1 + e^{-z}}$$\n",
    "es la **función logística** o la **función sigmoide**. Graficamente $\\sigma(z)$ luce de la siguiente forma:"
   ]
  },
  {
   "cell_type": "code",
   "execution_count": 27,
   "metadata": {},
   "outputs": [],
   "source": [
    "import numpy as np\n",
    "import matplotlib.pyplot as plt\n",
    "def sigmoid(z):\n",
    "    return 1 / (1 + np.exp(-z))"
   ]
  },
  {
   "cell_type": "code",
   "execution_count": 28,
   "metadata": {},
   "outputs": [],
   "source": [
    "z = np.arange(-5, 5, 0.2)\n",
    "g_z = sigmoid(z)"
   ]
  },
  {
   "cell_type": "code",
   "execution_count": 30,
   "metadata": {},
   "outputs": [
    {
     "data": {
      "image/png": "[encoded data removed]",
      "text/plain": [
       "<Figure size 432x288 with 1 Axes>"
      ]
     },
     "metadata": {
      "needs_background": "light"
     },
     "output_type": "display_data"
    }
   ],
   "source": [
    "plt.plot(z, g_z)\n",
    "plt.title('Figura 1. Función Sigmoide')\n",
    "plt.show()"
   ]
  },
  {
   "cell_type": "markdown",
   "metadata": {},
   "source": [
    "Observe que $\\sigma(z)$ tiene a $1$ cuando $z\\to \\infty$, y $\\sigma(z)$ tiene a $0$ cuándo $z\\to -\\infty$. Ademas, $\\sigma(z)$, y por lo tanto $h_{\\theta}$ está acotada entre $0$ y $1$. Acá se sigue manteniendo la convención de que $\\theta = (\\theta_0, \\dots, \\theta_n)^{\\top}$ y $x=(1, x_1, \\dots, x_n)^{\\top}$, asi que $\\theta^{\\top}x=\\theta\\cdot x$."
   ]
  },
  {
   "cell_type": "markdown",
   "metadata": {},
   "source": [
    "### Estimando probabilidades"
   ]
  },
  {
   "cell_type": "markdown",
   "metadata": {},
   "source": [
    "Considere una conjunto de datos $S=\\{(x_i, y_i\\}_{i=1}^m$, donde cada $x_i = (1, x_{i,1}, \\dots, x_{i,n})^{\\top}$ y cada $y_{i}\\in \\{0, 1\\}$. Bajo estas condiciones, la variable $y$ se puede ver como una distribución de Bernoulli para la clasificación binaria."
   ]
  },
  {
   "cell_type": "code",
   "execution_count": null,
   "metadata": {},
   "outputs": [],
   "source": []
  }
 ],
 "metadata": {
  "kernelspec": {
   "display_name": "Python 3",
   "language": "python",
   "name": "python3"
  },
  "language_info": {
   "codemirror_mode": {
    "name": "ipython",
    "version": 3
   },
   "file_extension": ".py",
   "mimetype": "text/x-python",
   "name": "python",
   "nbconvert_exporter": "python",
   "pygments_lexer": "ipython3",
   "version": "3.9.1"
  }
 },
 "nbformat": 4,
 "nbformat_minor": 4
}
