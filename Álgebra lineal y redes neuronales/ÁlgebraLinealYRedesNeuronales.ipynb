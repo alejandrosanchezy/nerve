{
 "cells": [
  {
   "cell_type": "markdown",
   "metadata": {},
   "source": [
    "## Álgebra lineal y redes neuronales\n",
    "Las redes neuronales son modelos cuantitativos que aprende como asociar una «entrada» y «patrón adaptado de salida» con el uso de algoritmos de aprendizaje. El objetivo aquí, será exponer cuatro conceptos principales del álgebra lineal que son esenciales para el análisis de estos modelos: 1) la proyección de un vector, 2) la descomposición por valores propios y singulares, 3) el gradiente de una matriz Hessiana de una función vectorial, y 4) la expansión en Taylor de una función vectorial. Estos conceptos son ilustrados con el análisis de las reglas de Hebbian y Widrow-Hoff y algunas arquitecturas simples de las redes neuronales (es decir, el auto asociador lineal, el hetero asociador y el error de redes por propagación regresiva). Se muestra también que las redes neuronales son equivalente a versiones iterativas de la estadística estándar y modelos de optimización tales como el análisis de regresión multiple y el análisis por componentes principales."
   ]
  },
  {
   "cell_type": "markdown",
   "metadata": {},
   "source": [
    "El álgebra lineal es usada particularmente para analizar la clase de redes neuronales denominadas «asociadores». Estos modelos de aprendizaje cuantitativo asocian una «entrada» y una «salida» mediante patrones adaptativos con el uso de algoritmos de aprendizaje. Cuando el conjunto de patrones de entrada es diferente del conjunto del patrón de salida, los modelos se denominan <em>heteroasociadores</em>. Cuando los patrones de entrada y los de salida son iguales, el modelo se denomina <em>autoasociador</em>. Los asociadores consisten de capas de unidades elementales denominadas <em>neuronas</em>. La información fluye a través de todas las capas. Algunas arquitecturas puede incluir capas intermedias (capas ocultas). Típicamente las neuronas de una capa están conectadas con las neuronas de otra capa. Las operaciones del álgebra lineal describe las transformaciones de la información a través de cada una de las capas."
   ]
  },
  {
   "cell_type": "markdown",
   "metadata": {},
   "source": [
    "Como es usual, los vectores serán representados por letras minúsculas (e.g., $x$), las matrices por letras mayúsculas (e.g., $X$). Además se supone que las siguientes nociones son conocidas: La operación de transposición (e.g., $x^\\top$), la norma de un vector (e.g.,$||x||$), el producto escalar (e.g., $x^{\\top}w$) y el producto de dos matrices (e.g., $AB)$. También se usará el producto de Hadamard (e.g., $A\\otimes B$)."
   ]
  },
  {
   "cell_type": "markdown",
   "metadata": {},
   "source": [
    "## Proyección"
   ]
  },
  {
   "cell_type": "markdown",
   "metadata": {},
   "source": [
    "### Coseno entre dos vectores"
   ]
  },
  {
   "cell_type": "markdown",
   "metadata": {},
   "source": [
    "El <em>coseno</em> de dos vectores $x$ y $y$ es el coseno del ángulo formado por el origen del espacio y los puntos definidos por las coordenadas de los vectores. Por lo tanto,\n",
    "\n",
    "\\begin{equation}\\nonumber\n",
    "\\cos(x, y) = \\frac{x^\\top y}{||x||||y||}.\n",
    "\\end{equation}\n",
    "\n",
    "El coseno indica la <em>similaridad</em> entre los vectores. Cuando dos vectores son proporcionales, es decir tienen la misma dirección, su coseno es igual a uno; si tienen dirección opuesta, su coseno es igual a menos uno; y cuando ellos son ortogonales, su coseno es igual a cero."
   ]
  },
  {
   "cell_type": "markdown",
   "metadata": {},
   "source": [
    "### Distancia entre vectores"
   ]
  },
  {
   "cell_type": "markdown",
   "metadata": {},
   "source": [
    "Entre una gran familia de distancias entre vectores, la más popular es la distancia euclidiana. Ésta está relacionada con el coseno entre vectores y se define como\n",
    "\n",
    "\\begin{equation}\\nonumber\n",
    "d_{_2}(x,y)=\\sqrt{(x-y)^\\top(x-y)}\n",
    "\\end{equation}"
   ]
  },
  {
   "cell_type": "markdown",
   "metadata": {},
   "source": [
    "### Proyección de un vector sobre otro vector"
   ]
  },
  {
   "cell_type": "markdown",
   "metadata": {},
   "source": [
    " La proyección ortogonal de un vector $x$ sobre un vector $w$ se define como:\n",
    " \n",
    "\\begin{equation}\\nonumber\n",
    "\\operatorname{proy}_{\\langle w\\rangle} x = \\frac{x^{\\top} w}{w^{\\top}w}w.\n",
    "\\end{equation}\n",
    "\n",
    "La norma de $\\operatorname*{proy}_{\\langle w\\rangle} x$ es su distancia al origen del espacio. Esto es igual a:\n",
    "\n",
    "\\begin{equation}\\nonumber\n",
    "||\\operatorname{proy}_{\\langle w\\rangle} x|| = \\frac{|x^{\\top}w|}{||w||}= |\\cos(x,y)|||x||.\n",
    "\\end{equation}"
   ]
  },
  {
   "cell_type": "markdown",
   "metadata": {},
   "source": [
    "### Las reglas de aprendizaje de Hebbian y Widrow-Hoff"
   ]
  },
  {
   "cell_type": "markdown",
   "metadata": {},
   "source": [
    "Una red neuronal consiste de células conectadas a otras células vía conexiones de peso denominadas sinapsis. Considere una red neuronal de $I$ entradas dada por una capa de células y solo una célula de salida. La información es transmitida vía la sinapsis, del conjunto de entrada de las células externas a las células de salida con la respuesta correspondiente al estado de activación. Si el patrón de entrada y el conjunto de pesos sinápticos son dados por un vector $I$ - dimensional denotado por $x$, y $w$, la activación de la célula de salida es dada por\n",
    "\n",
    "\\begin{equation}\\nonumber\n",
    "a = x^{\\top}w.\n",
    "\\end{equation}"
   ]
  },
  {
   "cell_type": "markdown",
   "metadata": {},
   "source": [
    "Así la activación es proporcional a la norma de la proyección del vector de entradas sobre el vector de pesos. La respuesta o salida de la célula es denotada por $r$. Para una célula lineal, esta es proporcional a la activación (por conveniencia, se asume que la constante de proporcionalidad es igual a uno). Los heteroasociadores lineales y los autoasociadores son construidos con células lineales. En general, la salida de una célula es una función (no necesariamente continua), denominada la función de transferencia, y su activación es:"
   ]
  },
  {
   "cell_type": "markdown",
   "metadata": {},
   "source": [
    "\\begin{equation}\n",
    "\\label{eqn:función}\n",
    "r = f(a).\n",
    "\\end{equation}"
   ]
  },
  {
   "cell_type": "markdown",
   "metadata": {},
   "source": [
    "Por ejemplo, en redes de retropropagación, la función de transferencia (no lineal) suele ser la función logística\n",
    "\n",
    "\\begin{equation}\\nonumber\n",
    "r = f(a) = \\operatorname{logit}(w^{\\top}x) = \\frac{1}{1 + \\exp\\{-w^{\\top}x\\}}.\n",
    "\\end{equation}"
   ]
  },
  {
   "cell_type": "markdown",
   "metadata": {},
   "source": [
    "A menudo,una red neuronal está diseñada para asociar, a una entrada dada, una respuesta específica llamada objetivo, denotada como $t$. El aprendizaje es equivalente a definir una regla que especifique cómo agregar una pequeña cantidad a cada peso sináptico en cada iteración de aprendizaje. El aprendizaje acerca la salida de la red al objetivo."
   ]
  },
  {
   "cell_type": "markdown",
   "metadata": {},
   "source": [
    "Las reglas de aprendizaje vienen en dos sabores principales: <em>supervisadas</em> (por ejemplo, Widrow-Hoff) que tienen en cuenta el error o la distancia entre la respuesta de la neurona y el objetivo,  y <em>sin supervisión</em> (por ejemplo, Hebbian) que no requieren tal «retroalimentación». La regla de aprendizaje hebbiana modifica el vector de peso en la iteración $n + 1$ como\n",
    "\n",
    "\\begin{equation}\\nonumber\n",
    "w_{n+1} = w_{n} + \\eta t x,\n",
    "\\end{equation}"
   ]
  },
  {
   "cell_type": "markdown",
   "metadata": {},
   "source": [
    "donde $\\eta$ es una pequeña constante positiva llamada <em>constante de aprendizaje</em>.Entonces, una iteración de aprendizaje hebbiana mueve el vector de peso en la dirección del vector de entrada en una cantidad proporcional al objetivo.\n",
    "\n",
    "La regla de aprendizaje de Widrow-Hoff utiliza el error y la derivada de la función de transferencia $f$ para calcular la corrección como:\n",
    "\n",
    "\\begin{equation}\n",
    "\\label{eqn:corrección}\n",
    "w_{n+1} = w_{n} + \\eta f'(a)(t-r) x.\n",
    "\\end{equation}"
   ]
  },
  {
   "cell_type": "markdown",
   "metadata": {},
   "source": [
    "Entonces, una iteración de aprendizaje de Widrow-Hoff mueve el vector de peso en la dirección del vector de entrada en una cantidad proporcional al error."
   ]
  },
  {
   "cell_type": "markdown",
   "metadata": {},
   "source": [
    "Para redes con varias celdas (por ejemplo $J$) en la capa de salida, el patrón de activación, salida y objetivo se convierten en vectores $J$ - dimensionales (denotados $a$, $r$ y $t$, respectivamente), y los pesos sinápticos se almacenan en una matriz $W$ de dimensión  $I \\times J$. Las ecuaciones de aprendizaje se convierten"
   ]
  },
  {
   "cell_type": "markdown",
   "metadata": {},
   "source": [
    "\\begin{equation}\n",
    "W_{n+1} = W_{n} + \\eta x t^{\\top} \\hbox{ (Hebbian)}\n",
    "\\end{equation}"
   ]
  },
  {
   "cell_type": "markdown",
   "metadata": {},
   "source": [
    "\\begin{equation}\n",
    "W_{n+1} = W_{n} + \\eta (f'(a) \\otimes x)(t- r)^{\\top} \\hbox{ (Widrow-Hoff)},\n",
    "\\end{equation}"
   ]
  },
  {
   "cell_type": "markdown",
   "metadata": {},
   "source": [
    "en donde la derivada $f'$ aplica sobre $a$ por cada componente, es decir, $f'(a)=(f'(a_{1}),...,f'(a_{J}))$."
   ]
  },
  {
   "cell_type": "markdown",
   "metadata": {},
   "source": [
    "En general, se deben aprender varias ($K$) asociaciones de entrada / destino. Luego, el conjunto de patrones de entrada se almacena en una matriz $I \\times K$ denotada como $X$, los patrones de activación y objetivo respectivamente se almacenan en matrices de dimensión $J \\times K$ indicadas como $A$ y $T$, respectivamente. Las iteraciones de activación y aprendizaje se pueden calcular para todos los patrones a la vez (esto se llama modo por lotes). La matriz de salida se calcula como:"
   ]
  },
  {
   "cell_type": "markdown",
   "metadata": {},
   "source": [
    "\\begin{equation}\n",
    "r = f(A) = f(WX^{T}),    \n",
    "\\end{equation}"
   ]
  },
  {
   "cell_type": "markdown",
   "metadata": {},
   "source": [
    "en donde   $f$ también aplica sobre cada componente de $WX^{\\top}$."
   ]
  },
  {
   "cell_type": "markdown",
   "metadata": {},
   "source": [
    "Las ecuaciones de aprendizaje se convierten\n",
    "\n",
    "\\begin{equation}\n",
    "W_{n+1} = W_{n} + \\eta X T^{\\top} \\hbox{ (Hebbian)},\n",
    "\\end{equation}\n",
    "\n",
    "\\begin{equation}\n",
    "W_{n+1} = W_{n} + \\eta (f'(A) \\otimes X)(T- R)^{\\top} \\hbox{ (Widrow-Hoff).}\n",
    "\\end{equation}"
   ]
  },
  {
   "cell_type": "markdown",
   "metadata": {},
   "source": [
    "### Valores propios, vectores propios y la descomposición en valores singulares"
   ]
  },
  {
   "cell_type": "markdown",
   "metadata": {},
   "source": [
    "Los vectores propios de una matriz cuadrada $W$ dada (resultante de su <em>descomposición propia</em>) son vectores invariantes bajo multiplicación por $W$. La descomposición propia se define mejor para una subclase de matrices llamadas matrices <em>semi-definidas</em> positivas. Una matriz $X$ es positiva semi-definida si existe otra matriz $Y$ tal que $X = YY^{\\top}$. Este es el caso de la mayoría de las matrices utilizadas en redes neuronales, por lo que se considera solo este caso aquí."
   ]
  },
  {
   "cell_type": "markdown",
   "metadata": {},
   "source": [
    "Formalmente, un vector (distinto de cero) $u$ es un vector propio de una matriz cuadrada $W$ si\n",
    "\n",
    "\\begin{equation}\n",
    "\\lambda u = Wu.\n",
    "\\end{equation}\n",
    "\n",
    "El escalar $\\lambda$ es el valor propio asociado con $u$. Entonces $u$ es un vector propio de $W$ si su dirección es invariante bajo la multiplicación por $W$ (solo su longitud cambia si $\\lambda \\neq 1$). En general, hay varios vectores propios para una matriz dada (como máximo, la dimensión de $W$).  En general, se ordenan por orden decreciente de su valor propio. Entonces, el primer vector propio, $u_{1}$ tiene el mayor valor propio $\\lambda_{1}$. El número de vectores propios con un valor propio distinto de cero es el rango de la matriz."
   ]
  },
  {
   "cell_type": "markdown",
   "metadata": {},
   "source": [
    "Los valores propios de las matrices semidefinidas positivas son siempre positivos o cero (una matriz con valores propios estrictamente positivos, es definida positiva). Además, cualquiera de los dos vectores propios con valores propios diferentes son ortogonales, es decir:"
   ]
  },
  {
   "cell_type": "markdown",
   "metadata": {},
   "source": [
    "\\begin{equation}\\nonumber\n",
    "u_l^{\\top} u_{l'} = 0 \\,\\, \\forall\\,\\, l \\neq l'.\n",
    "\\end{equation}"
   ]
  },
  {
   "cell_type": "markdown",
   "metadata": {},
   "source": [
    "Además, el conjunto de vectores propios de una matriz constituye una base ortogonal para sus filas y columnas. Esto se expresa definiendo dos matrices: la matriz de vectores propios $U$, y la matriz diagonal de los valores propios: $\\Lambda$. La descomposición propia de $W$ (con rango L) es:"
   ]
  },
  {
   "cell_type": "markdown",
   "metadata": {},
   "source": [
    "\\begin{equation}\\nonumber\n",
    "W = U \\Lambda U^{\\top} = \\sum_{l}^{L} \\Lambda_{l} u_{l} u_{l}^{\\top}\n",
    "\\end{equation}"
   ]
  },
  {
   "cell_type": "markdown",
   "metadata": {},
   "source": [
    "La descomposición de valores singulares (SVD) generaliza la descomposición propia en matrices rectangulares. Si $X$ es una matriz $I \\times K$, su SVD se define como:"
   ]
  },
  {
   "cell_type": "markdown",
   "metadata": {},
   "source": [
    "\\begin{equation}\\nonumber\n",
    "X = U \\Delta V^{\\top}\n",
    "\\end{equation}\n",
    "\n",
    "con $U U^{\\top} = V^{\\top} V = I$ y $\\Delta$ una matriz diagonal."
   ]
  },
  {
   "cell_type": "markdown",
   "metadata": {},
   "source": [
    "($I$ siendo la matriz identidad). Los elementos diagonales de $\\Delta$ son números reales positivos llamados valores singulares de $X$. Las matrices $U$ y $V$ son las matrices izquierda y derecha de vectores singulares (que también son vectores propios, ver más abajo)."
   ]
  },
  {
   "cell_type": "markdown",
   "metadata": {},
   "source": [
    "El SVD está estrechamente relacionado con la descomposición propia porque $U$, $V$ y $\\Delta$ pueden obtenerse a partir de la descomposición propia de las matrices $X^{\\top} X$ y $X X^{\\top}$ como\n",
    "\n",
    "\\begin{equation}\\nonumber\n",
    "X^{\\top} X = U \\Lambda U^{\\top},\n",
    "\\end{equation}\n",
    "\n",
    "\\begin{equation}\\nonumber\n",
    "X X^{\\top} = V \\Lambda V^{\\top},\n",
    "\\end{equation}\n",
    "\n",
    "\\begin{equation}\\nonumber\n",
    "\\Delta = \\Lambda^{1/2}\n",
    "\\end{equation}\n",
    "\n",
    "(tenga en cuenta que $X^{\\top} X$ y $X X^{\\top}$ tienen los mismos valores propios)."
   ]
  },
  {
   "cell_type": "markdown",
   "metadata": {},
   "source": [
    "Las descomposiciones de valores propios y singulares se utilizan en la mayoría de los campos de las matemáticas aplicadas, incluidas las estadísticas, el procesamiento de imágenes, la mecánica y los sistemas dinámicos. Para las redes neuronales, son esenciales para estudiar la dinámica de los autoasociadores y heteroasociadores lineales."
   ]
  },
  {
   "cell_type": "markdown",
   "metadata": {},
   "source": [
    "### Procesos iterativos"
   ]
  },
  {
   "cell_type": "markdown",
   "metadata": {},
   "source": [
    "Un heteroasociador lineal que usa la regla de Widrow-Hoff, el aprendizaje modifica solo los valores propios de la matriz de peso. Específicamente, si los patrones a aprender se almacenan en una matriz $I \\times K$ $X$, $X$, con una descomposición de valores singulares como $X = U \\Delta V^{\\top}$, entonces la ecuación de aprendizaje (ver Ecuación \\ref{eqn:Hebbian}) se convierte en, porque para un heteroasociador lineal, $O = A$, y $f'(A) = I$."
   ]
  },
  {
   "cell_type": "markdown",
   "metadata": {},
   "source": [
    "\\begin{equation}\\nonumber\n",
    "W_{n+1} = W_{n} + \\eta x(T - A)^{\\top} = U\\Delta^{-1}[I - (I - \\eta\\Delta^2)^{n+1}] V^{\\top} T^{\\top},\n",
    "\\end{equation}"
   ]
  },
  {
   "cell_type": "markdown",
   "metadata": {},
   "source": [
    " (ver Abdi, 1994, p.54ff.)."
   ]
  },
  {
   "cell_type": "markdown",
   "metadata": {},
   "source": [
    "La matriz de peso de Hebbian corresponde a la primera iteración del algoritmo, es decir,"
   ]
  },
  {
   "cell_type": "markdown",
   "metadata": {},
   "source": [
    "\\begin{equation}\\nonumber\n",
    "W_{1} = U\\Delta^{-1}[I - (I - \\eta \\Delta^2)^{1}] V^{\\top} T^{\\top} = U\\eta \\Delta V^{\\top} T^{\\top} = \\eta X T^{\\top}.\n",
    "\\end{equation}"
   ]
  },
  {
   "cell_type": "markdown",
   "metadata": {},
   "source": [
    "La ecuación \\ref{eqn:nueve} caracteriza los valores de $\\eta$ que permiten que el proceso iterativo converja. Denotando por $\\delta_{max}$ el mayor valor singular de $X$, si $\\eta$ es tal que:"
   ]
  },
  {
   "cell_type": "markdown",
   "metadata": {},
   "source": [
    "\\begin{equation}\\nonumber\n",
    "0 < \\eta < 2 \\delta^{-2}_{max}\n",
    "\\end{equation}"
   ]
  },
  {
   "cell_type": "markdown",
   "metadata": {},
   "source": [
    "entonces se puede demostrar que (ver Abdi, 1994)"
   ]
  },
  {
   "cell_type": "markdown",
   "metadata": {},
   "source": [
    "\\begin{equation}\n",
    "\\lim_{n \\to \\infty}(I - \\eta \\Delta^{2})^{n} = O\n",
    "\\end{equation}\n",
    "\\begin{equation}\n",
    "\\lim_{n \\to \\infty} W_{n} = U \\pmb{\\Delta}^{-1} V^{\\top} T^{\\top} = X^{+} T.\n",
    "\\end{equation}"
   ]
  },
  {
   "cell_type": "markdown",
   "metadata": {},
   "source": [
    "La matriz $X^{+} = U \\Delta^{-1} V^{\\top} $ es el pseudoinverso de $X$. Da una solución óptima de mínimos cuadrados para la asociación entre la entrada y el objetivo. Por lo tanto, el heteroasociador lineal es equivalente a la regresión múltiple lineal. Si $\\eta$ está fuera del intervalo definido por la Ecuación \\ref{eqn:veintiuno}, tanto los valores singulares como los elementos de la matriz de peso crecerán en cada iteración. En la práctica, debido a que las redes neuronales son simuladas por computadoras digitales, la matriz de peso eventualmente alcanzará los límites de la precisión de la máquina."
   ]
  },
  {
   "cell_type": "markdown",
   "metadata": {},
   "source": [
    "Cuando los vectores objetivo son los mismos que los vectores de entrada (es decir, cuando cada entrada está asociada a sí misma), el heteroasociador lineal se convierte en un autoasociador lineal. El enfoque anterior muestra que, ahora, la matriz Hebbiana de peso  es la matriz de productos cruzados:"
   ]
  },
  {
   "cell_type": "markdown",
   "metadata": {},
   "source": [
    "\\begin{equation}\n",
    "W_{1} = X X^{\\top} = U \\Lambda U^{\\top}.\n",
    "\\end{equation}"
   ]
  },
  {
   "cell_type": "markdown",
   "metadata": {},
   "source": [
    "Con el aprendizaje de Widrow-Hoff, cuando se alcanza la convergencia, todos los valores propios distintos de cero de la matriz de peso son iguales a 1. La matriz de peso se dice que es esférica; esto es igual a:"
   ]
  },
  {
   "cell_type": "markdown",
   "metadata": {},
   "source": [
    "\\begin{equation}\\nonumber\n",
    "W_{\\infty}  = U U^{\\top}.\n",
    "\\end{equation}"
   ]
  },
  {
   "cell_type": "markdown",
   "metadata": {},
   "source": [
    "Debido a que la técnica estadística del análisis de componentes principales (PCA) calcula la descomposición propia de una matriz de productos cruzados similar a $W$, el autoasociador lineal se considera como la red neuronal equivalente de PCA."
   ]
  },
  {
   "cell_type": "markdown",
   "metadata": {},
   "source": [
    "## Optimización, Derivadas y Matrices"
   ]
  },
  {
   "cell_type": "markdown",
   "metadata": {},
   "source": [
    "Las redes neuronales se utilizan a menudo para optimizar una función de los pesos sinápticos. La \\emph{diferenciación} de una función es el concepto principal para explorar problemas de \\emph{optimización} y, para redes neuronales, implica la diferenciación de vectores o funciones matriciales. En este contexto, debemos considerar la función de transferencia como una función del vector de peso. Esto se expresa reescribiendo la Ecuación \\ref{eqn:función} como:"
   ]
  },
  {
   "cell_type": "markdown",
   "metadata": {},
   "source": [
    "\\begin{equation}\n",
    "r = f(w).\n",
    "\\end{equation}"
   ]
  },
  {
   "cell_type": "markdown",
   "metadata": {},
   "source": [
    "La derivada de $f(w)$ con respecto al vector $I \\times 1$ $w$ se denota por $\\nabla f (w)$. También se llama el gradiente de $f$, es decir,"
   ]
  },
  {
   "cell_type": "markdown",
   "metadata": {},
   "source": [
    "\\begin{equation}\\nonumber\n",
    "\\nabla f(w) = \\frac{\\partial f}{\\partial w} = \\left[\\frac{\\partial f}{\\partial w_{1}},..., \\frac{\\partial f}{\\partial w_{i}},..., \\frac{\\partial f}{\\partial w_{I}} \\right]^{\\top}.\n",
    "\\end{equation}"
   ]
  },
  {
   "cell_type": "markdown",
   "metadata": {},
   "source": [
    "Por ejemplo, la derivada de la salida de una neurona lineal es"
   ]
  },
  {
   "cell_type": "markdown",
   "metadata": {},
   "source": [
    "\\begin{equation}\n",
    "\\frac{\\partial f}{\\partial w} = \\left[\\frac{\\partial w^{\\top} x}{\\partial w_{1}},..., \\frac{\\partial w^{\\top} x}{\\partial w_{i}},..., \\frac{\\partial w^{\\top} x}{\\partial w_{I}} \\right]^{\\top} = [x_{1},...,x_{i},..., x_{I}]^{\\top} = \\pmb{x}.\n",
    "\\end{equation}"
   ]
  },
  {
   "cell_type": "markdown",
   "metadata": {},
   "source": [
    "Cuando una función es dos veces diferenciable, las derivadas de segundo orden se almacenan en una matriz llamada matriz Hessiana de la función. A menudo se denota por $H$ o $\\nabla^{2}_{f}$ y se define formalmente como"
   ]
  },
  {
   "cell_type": "markdown",
   "metadata": {},
   "source": [
    "\\begin{equation}\n",
    "H = \\nabla^{2}_{f} = \\left[\\begin{array}{cccc}\n",
    "\\frac{\\partial^{2}_{f}}{\\partial w^{2}_{1}} & \\frac{\\partial^{2}_{f}}{\\partial w_{1} w_{2}} & \\cdots & \\frac{\\partial^{2}_{f}}{\\partial w_{1} w_{I}} \\\\ \n",
    "\\frac{\\partial^{2}_{f}}{\\partial w_{2} w_{1}} & \\frac{\\partial^{2}_{f}}{\\partial w^{2}_{2}} & \\cdots & \\frac{\\partial^{2}_{f}}{\\partial w_{2} w_{I}} \\\\\n",
    "\\vdots & \\vdots & \\ddots & \\vdots \\\\\n",
    "\\frac{\\partial^{2}_{f}}{\\partial w_{I}w_{1}} & \\frac{\\partial^{2}_{f}}{\\partial w_{I}w_{2}} & \\cdots & \\frac{\\partial^{2}_{f}}{\\partial w^{2}_{I}}.\n",
    "\\end{array} \\right]\n",
    "\\end{equation}"
   ]
  },
  {
   "cell_type": "markdown",
   "metadata": {},
   "source": [
    "## Condiciones para mínimo"
   ]
  },
  {
   "cell_type": "markdown",
   "metadata": {},
   "source": [
    "Un problema estándar es mostrar que una regla de aprendizaje dada encuentra una solución óptima en el sentido de que una función del vector de peso (o matriz) llamada \\emph{función de error} alcanza su valor mínimo cuando el aprendizaje ha convergido. A menudo, la función de error se define como la suma del error al cuadrado sobre todos los patrones."
   ]
  },
  {
   "cell_type": "markdown",
   "metadata": {},
   "source": [
    "Cuando se puede evaluar el gradiente de la función de error, una condición necesaria para la optimización (es decir, mínimo o máximo) es encontrar un vector de peso $\\widetilde{w}$ tal que"
   ]
  },
  {
   "cell_type": "markdown",
   "metadata": {},
   "source": [
    "\\begin{equation}\n",
    "\\nabla_{f (\\widetilde{w})} = 0.\n",
    "\\end{equation}"
   ]
  },
  {
   "cell_type": "markdown",
   "metadata": {},
   "source": [
    "Esta condición también es suficiente siempre que $H$ sea definida positiva (cf. Haykin, 1999)."
   ]
  },
  {
   "cell_type": "markdown",
   "metadata": {},
   "source": [
    "## Expansión de Taylor"
   ]
  },
  {
   "cell_type": "markdown",
   "metadata": {},
   "source": [
    "La expansión de Taylor es la técnica estándar utilizada para obtener una aproximación lineal o cuadrática de una función de una variable. Recuerde que la expansión de Taylor de una función continua $f(x)$ es"
   ]
  },
  {
   "cell_type": "markdown",
   "metadata": {},
   "source": [
    "\\begin{equation}\\nonumber\n",
    "f(x) = f(a) + (x-a)\\frac{f'(a)}{1!} + (x-a)^{2} \\frac{f''(a)}{2!} + ...(x-a)^{n} \\frac{f^{n}(a)}{n!} + ...\n",
    "\\end{equation}"
   ]
  },
  {
   "cell_type": "markdown",
   "metadata": {},
   "source": [
    "\\begin{equation}\\nonumber\n",
    "= f(a) +(x-a)\\frac{f'(a)}{1!} + (x-a)^{2} \\frac{f''(a)}{2!} + \\Re_{2}.\n",
    "\\end{equation}"
   ]
  },
  {
   "cell_type": "markdown",
   "metadata": {},
   "source": [
    "(donde $\\Re_{2}$ representa todos los términos de orden superior a 2, y $a$ es un valor \"conveniente\" para evaluar $f$)."
   ]
  },
  {
   "cell_type": "markdown",
   "metadata": {},
   "source": [
    "Esta técnica puede extenderse a funciones de matriz y vector. Implica la noción de gradiente y de Hessiano. Ahora una función vectorial $f (x)$ se expresa como:"
   ]
  },
  {
   "cell_type": "markdown",
   "metadata": {},
   "source": [
    "\\begin{equation}\\nonumber\n",
    "f(x) = f(a) + f(x - a)^{\\top} \\nabla_{f(a)} + f(x - a)^{\\top} \\nabla^{2}_{f(a)}f(x - a) + \\Re_{2}.\n",
    "\\end{equation}"
   ]
  },
  {
   "cell_type": "markdown",
   "metadata": {},
   "source": [
    "## Minimización iterativa"
   ]
  },
  {
   "cell_type": "markdown",
   "metadata": {},
   "source": [
    "Se puede demostrar que una regla de aprendizaje converge a un valor óptimo si disminuye el valor de la función de error en cada iteración. Cuando se puede evaluar el gradiente de la función de error, la técnica de \\emph{gradiente} (o \\emph{descenso más pronunciado}) ajusta el vector de peso moviéndolo en la dirección opuesta al gradiente de la función de error. Formalmente, la corrección para la iteración $(n + 1)$ es"
   ]
  },
  {
   "cell_type": "markdown",
   "metadata": {},
   "source": [
    "\\begin{equation}\\nonumber\n",
    "w_{n+1} = w_{n} + \\nabla = w_{n} - \\eta \\nabla_{f{w}}\n",
    "\\end{equation}"
   ]
  },
  {
   "cell_type": "markdown",
   "metadata": {},
   "source": [
    "(donde $\\nabla_{f{w}}$ se calcula para $w_{[n]}$."
   ]
  },
  {
   "cell_type": "markdown",
   "metadata": {},
   "source": [
    "Como ejemplo, demostremos que para un heteroasociador lineal, la regla de aprendizaje de Widrow-Hoff minimiza iterativamente el error al cuadrado entre el objetivo y la salida. La función de error es"
   ]
  },
  {
   "cell_type": "markdown",
   "metadata": {},
   "source": [
    "\\begin{equation}\n",
    "e^{2} = (t-o)^{2} = t^{2} + o^{2} - 2to = t^{2} + x^{\\top}w w^{\\top} -2tw^{\\top}x.\n",
    "\\end{equation}"
   ]
  },
  {
   "cell_type": "markdown",
   "metadata": {},
   "source": [
    "El gradiente de la función de error es:"
   ]
  },
  {
   "cell_type": "markdown",
   "metadata": {},
   "source": [
    "\\begin{equation}\\nonumber\n",
    "\\frac{\\partial e}{\\partial w} = 2(w^{\\top} x)x - 2t x = -2(t - w^{\\top} x) x.\n",
    "\\end{equation}"
   ]
  },
  {
   "cell_type": "markdown",
   "metadata": {},
   "source": [
    "El vector de peso se corrige moviéndolo en la dirección opuesta del gradiente. Esto se obtiene agregando un pequeño vector denotado $\\nabla_{w}$ opuesto al gradiente. Esto proporciona la siguiente corrección para la iteración $n + 1$:"
   ]
  },
  {
   "cell_type": "markdown",
   "metadata": {},
   "source": [
    "\\begin{equation}\\nonumber\n",
    "w_{n+1} = w_{n} + \\nabla_{w} = w_{n} - \\eta \\frac{\\partial e}{\\partial w} = w_{n} + \\eta (t-w^{\\top}x)x = w_{n} + \\eta(t-o)x.\n",
    "\\end{equation}"
   ]
  },
  {
   "cell_type": "markdown",
   "metadata": {},
   "source": [
    "Esto da la regla definida por la ecuación \\ref{eqn:corrección}."
   ]
  },
  {
   "cell_type": "markdown",
   "metadata": {},
   "source": [
    "El método de gradiente funciona porque el gradiente de $w_{n}$ es una aproximación de Taylor de primer orden del gradiente del vector de peso óptimo $\\widetilde{w}$. Es una técnica favorita en las redes neuronales porque el error de propagación posterior popular es una técnica de gradiente."
   ]
  },
  {
   "cell_type": "markdown",
   "metadata": {},
   "source": [
    "\\emph{El método de Newton} es una aproximación de Taylor de segundo orden, utiliza el inverso del hessiano de $w$ (suponiendo que exista). Proporciona una mejor aproximación numérica pero requiere más cómputo. Aquí la corrección para la iteración $n + 1$ es"
   ]
  },
  {
   "cell_type": "markdown",
   "metadata": {},
   "source": [
    "\\begin{equation}\\nonumber\n",
    "w_{n+1} = w_{n} + \\Delta = w_{n} - (H^{-1}) (\\nabla_{f(w)}).\n",
    "\\end{equation}"
   ]
  },
  {
   "cell_type": "markdown",
   "metadata": {},
   "source": [
    "(donde $\\nabla_{f(w)}$ se calcula para $w_{n}$."
   ]
  },
  {
   "cell_type": "code",
   "execution_count": null,
   "metadata": {},
   "outputs": [],
   "source": []
  }
 ],
 "metadata": {
  "kernelspec": {
   "display_name": "Python 3",
   "language": "python",
   "name": "python3"
  },
  "language_info": {
   "codemirror_mode": {
    "name": "ipython",
    "version": 3
   },
   "file_extension": ".py",
   "mimetype": "text/x-python",
   "name": "python",
   "nbconvert_exporter": "python",
   "pygments_lexer": "ipython3",
   "version": "3.8.6"
  }
 },
 "nbformat": 4,
 "nbformat_minor": 4
}
