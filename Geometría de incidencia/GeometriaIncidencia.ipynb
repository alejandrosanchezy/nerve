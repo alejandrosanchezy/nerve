{
 "cells": [
  {
   "cell_type": "markdown",
   "metadata": {},
   "source": [
    "Una <b>geometría de incidencia</b> está formada por un conjunto no vacío $\\mathbb{E}$ al que se denomina <b>espacio</b> y a cuyos elementos se conocerán como <b>puntos</b>, junto con dos familias disyuntas y no vacías $\\mathcal{L}$, $\\mathcal{P}$ de subconjuntos no vacíos del espacio a cuyos elementos se denominaran respectivamente <b>rectas</b> y <b>planos</b>, de modo que se satisfacen los siguientes axiomas:\n",
    "* **Axioma AI1.** Cualquier par de puntos distintos pertenecen a una única recta.\n",
    "* **Axioma AI2.** Para toda recta, existe al menos dos puntos distintos que pertenecen a ella.\n",
    "* **Axioma AI3.** Para cualquier tripleta de puntos distintos, tales que no pertenecen simultáneamente a ninguna recta, pertenecen a un único plano.\n",
    "* **Axioma AI4.** Para todo plano, existe al menos tres puntos distintos que pertenecen a él y no pertenecen simultaneamente a ninguna recta.\n",
    "* **Axioma AI5.** Si un plano y una recta tienen al menos dos puntos en común, entonces la recta está contenida en el plano.\n",
    "* **Axioma AI6.** Si dos planos tienen un punto en común, entonces tienen dos puntos en común. \n",
    "* **Axioma AI7.** Para todo plano existe al menos un punto que no pertenece a él."
   ]
  },
  {
   "cell_type": "markdown",
   "metadata": {},
   "source": [
    "Cuando tres puntos o más pertenecen simultáneamente a una única recta, entonces se dice que son <b>colineales</b>. También se dirá que cuatro puntos o más son <b>coplanares</b> si pertenecen simultáneamente a un único plano. "
   ]
  },
  {
   "cell_type": "markdown",
   "metadata": {},
   "source": [
    "Los axiomas anteriores pueden tener muchas interpretaciones, debido a que el espacio $\\mathbb{E}$ se considera como un conjunto del cuál no se ha especificado la naturaliza de sus elementos. Con el objetivo de estimular el entendimiento de estos conceptos, inclusive sus limitaciones, se le sugiere al lector que estudie cuidadosamente los siguientes ejemplos, y descubra que estos ejemplos cumplen con la definición de una geometría de incidencia. "
   ]
  },
  {
   "cell_type": "markdown",
   "metadata": {},
   "source": [
    "<b>Ejemplo 1.</b> <em> Considere el conjunto $\\mathbb{E}=\\{A, B, C\\}$ y la familia de rectas $\\mathcal{L}=\\{\\{A,B\\},\\{A,C\\}, \\{B, C\\}\\}$. Sin duda el lector podrá verificar que $\\mathbb{E}$ y $\\mathcal{L}$ satisface los axiomas AI1, AI2, AI3 y AI4. Si asumimos que los demás axiomas se cumplen por vacuidad, entonces el par $(\\mathbb{E},\\mathcal{L})$ es una geometría de incidencia.</em>"
   ]
  },
  {
   "cell_type": "markdown",
   "metadata": {},
   "source": [
    "<b>Ejemplo 2.</b> <em> Considere el conjunto $\\mathbb{E}=\\{A, B, C, D\\}$, la familia de rectas $\\mathcal{L}=\\{\\{A,B\\},\\{A,C\\}, \\{A, D\\}, \\{B, C\\}, \\{B, D\\}, \\{C, D\\}\\}$ y la familia de planos definidos por $\\mathcal{P}=\\{\\{A, B, C\\}, \\{A, B, D\\}, \\{A, C, D\\}, \\{B, C, D\\}\\}$. En esta ejemplo, el lector podrá verificar que $\\mathbb{E}$, $\\mathcal{L}$ y $\\mathcal{P}$ satisface todos los axiomas de una geometría de incidencia. </em>"
   ]
  },
  {
   "cell_type": "markdown",
   "metadata": {},
   "source": [
    "Ahora que el lector ha entendido los ejemplos 1 y 2, ya está en la capacidad de resolver las siguientes preguntas: ¿Es posible en el conjunto $\\mathbb{E}=\\emptyset$ definir una geometría de incidencia? ¿Y en $\\mathbb{E}=\\{\\emptyset\\}$?"
   ]
  },
  {
   "cell_type": "markdown",
   "metadata": {},
   "source": [
    "Para los lectores más atrevidos, les sugiero pensar en el siguiente problema, el cual involucra algunos aspectos de combinatoria:"
   ]
  },
  {
   "cell_type": "markdown",
   "metadata": {},
   "source": [
    "<b>Problema 1.</b> <em> Considere un conjunto finito $\\mathbb{E}=\\{A_{1}, \\cdots, A_{n+1}\\}$. ¿De cuántas formas se puede definir las familias de rectas y planos de tal forma que $(\\mathbb{E}, \\mathcal{P}, \\mathcal{L})$ sea una geometría de incidencia?</em>"
   ]
  },
  {
   "cell_type": "code",
   "execution_count": null,
   "metadata": {},
   "outputs": [],
   "source": []
  }
 ],
 "metadata": {
  "kernelspec": {
   "display_name": "Python 3",
   "language": "python",
   "name": "python3"
  },
  "language_info": {
   "codemirror_mode": {
    "name": "ipython",
    "version": 3
   },
   "file_extension": ".py",
   "mimetype": "text/x-python",
   "name": "python",
   "nbconvert_exporter": "python",
   "pygments_lexer": "ipython3",
   "version": "3.8.5"
  }
 },
 "nbformat": 4,
 "nbformat_minor": 4
}
