{
 "cells": [
  {
   "cell_type": "markdown",
   "metadata": {},
   "source": [
    "Una <b>geometría de incidencia</b> está formada por un conjunto no vacío $\\mathbb{E}$ al que se denomina <b>espacio</b> y a cuyos elementos se conocerán como <b>puntos</b>, junto con dos familias disyuntas y no vacías $\\mathcal{L}$, $\\mathcal{P}$ de subconjuntos no vacíos del espacio a cuyos elementos se denominaran respectivamente <b>rectas</b> y <b>planos</b>, de modo que se satisfacen los siguientes axiomas:\n",
    "<dl>\n",
    "<dt> <b>Axioma AI1</b>\n",
    "<dd>Cualquier par de puntos distintos pertenecen a una única recta.\n",
    "<dt> <b>Axioma AI2</b>\n",
    "<dd> Para toda recta, existe al menos dos puntos distintos que pertenecen a ella.\n",
    "<dt> <b>Axioma AI3</b>\n",
    "<dd> Para cualquier tripleta de puntos distintos, tales que no pertenecen simultáneamente a ninguna recta, pertenecen a un único plano.\n",
    "<dt> <b>Axioma AI4</b> \n",
    "<dd> Para todo plano, existe al menos tres puntos distintos que pertenecen a él y no pertenecen simultaneamente a ninguna recta.\n",
    "<dt> <b>Axioma AI5</b> \n",
    "<dd> Si un plano y una recta tienen al menos dos puntos en común, entonces la recta está contenida en el plano.\n",
    "<dt> <b>Axioma AI6</b> \n",
    "<dd> Si dos planos tienen un punto en común, entonces tienen dos puntos en común. \n",
    "<dt> <b>Axioma AI7</b>\n",
    "<dd> Para todo plano existe al menos un punto que no pertenece a él. \n",
    "</dl>"
   ]
  },
  {
   "cell_type": "markdown",
   "metadata": {},
   "source": [
    "Cuando tres puntos o más pertenecen simultáneamente a una única recta, entonces se dice que son <b>colineales</b>. También se dirá que cuatro puntos o más son <b>coplanares</b> si pertenecen simultáneamente a un único plano. "
   ]
  },
  {
   "cell_type": "markdown",
   "metadata": {},
   "source": [
    "Con el objetivo de estamular el entendimiento de estos conceptos, inclusive sus limitaciones, se le sugiere al lector que estudie cuidadosamente los siguiente ejemplos:"
   ]
  },
  {
   "cell_type": "markdown",
   "metadata": {},
   "source": [
    "<b>Ejemplo 1.</b> <em> Considere el conjunto $\\mathbb{E}=\\{A, B, C\\}$ y la familia de rectas $\\mathcal{L}=\\{\\{A,B\\},\\{A,C\\}, \\{B, C\\}\\}$. Sin duda el lector podrá verificar que $\\mathbb{E}$ y $\\mathcal{L}$ satisface los axiomas AI1, AI2, AI3 y AI4. Si asumimos que los demás axiomas se cumplen por vacuidad, entonces el par $(\\mathbb{E},\\mathcal{L})$ es una geometría de incidencia.</em>"
   ]
  },
  {
   "cell_type": "code",
   "execution_count": null,
   "metadata": {},
   "outputs": [],
   "source": []
  }
 ],
 "metadata": {
  "kernelspec": {
   "display_name": "Python 3",
   "language": "python",
   "name": "python3"
  },
  "language_info": {
   "codemirror_mode": {
    "name": "ipython",
    "version": 3
   },
   "file_extension": ".py",
   "mimetype": "text/x-python",
   "name": "python",
   "nbconvert_exporter": "python",
   "pygments_lexer": "ipython3",
   "version": "3.8.5"
  }
 },
 "nbformat": 4,
 "nbformat_minor": 4
}
