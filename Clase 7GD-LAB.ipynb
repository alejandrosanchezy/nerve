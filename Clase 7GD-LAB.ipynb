{
 "cells": [
  {
   "cell_type": "markdown",
   "metadata": {},
   "source": [
    "## Clase para los predictores lineales"
   ]
  },
  {
   "cell_type": "code",
   "execution_count": 1,
   "metadata": {},
   "outputs": [],
   "source": [
    "import numpy as np"
   ]
  },
  {
   "cell_type": "code",
   "execution_count": 2,
   "metadata": {},
   "outputs": [],
   "source": [
    "class LinearPredictor:\n",
    "    \n",
    "    def __init__(self, n: int):\n",
    "        \"\"\"\n",
    "        Input:\n",
    "            n: Es la dimensión de los datos. \n",
    "        \"\"\"\n",
    "        \n",
    "        self.theta = np.zeros(n + 1).reshape(-1, 1)\n",
    "        \n",
    "    def evaluate(self, x: list):\n",
    "        theta = self.theta\n",
    "        x = np.array(x).reshape(-1, 1)        \n",
    "        return theta.T.dot(x)"
   ]
  },
  {
   "cell_type": "code",
   "execution_count": 38,
   "metadata": {},
   "outputs": [],
   "source": [
    "class SyntheticData:\n",
    "    \n",
    "    def __init__(self, n: int):\n",
    "        \"\"\"\n",
    "        Input: n la dimensión de los datos.\n",
    "        \"\"\"\n",
    "        self.n = n\n",
    "        self.xi = np.random.rand(n + 1).reshape(-1, 1)\n",
    "        \n",
    "    def generate(self, size_data, sigma):\n",
    "        ones = np.ones(size_data).reshape(-1, 1)\n",
    "        X = np.hstack((ones, np.random.rand(size_data, self.n)))\n",
    "        epsilon = sigma * np.random.standard_normal(size_data)\n",
    "        \n",
    "        y = X.dot(self.xi) + epsilon.reshape(-1, 1)\n",
    "        \n",
    "        return X, y, self.xi     "
   ]
  },
  {
   "cell_type": "code",
   "execution_count": 39,
   "metadata": {},
   "outputs": [],
   "source": [
    "def generate_batches(m, size_data, batchs, sigma):\n",
    "    synthetic_data = SyntheticData(m)\n",
    "    batches = [synthetic_data.generate(size_data, sigma) for _ in range(batchs)]\n",
    "    return batches"
   ]
  },
  {
   "cell_type": "code",
   "execution_count": 53,
   "metadata": {},
   "outputs": [],
   "source": [
    "def RMSE(matrix_theta, xi, k):\n",
    "    matrix_theta = np.array(matrix_theta)\n",
    "    xi = np.array(xi).reshape(-1, 1)\n",
    "    arg = (1/k) * (matrix_theta - xi) ** 2 \n",
    "    return np.sqrt(arg.sum(axis=1))"
   ]
  },
  {
   "cell_type": "code",
   "execution_count": 67,
   "metadata": {},
   "outputs": [],
   "source": [
    "def loss(predictor, sample):\n",
    "    m = len(sample[0])\n",
    "    arg = list()\n",
    "    for i in range(m):\n",
    "        x_i = sample[0][i]\n",
    "        y_i = sample[1][i]\n",
    "        arg.appen((predictor.evaluate(x_i) - y_i)**2)\n",
    "    return 1/(2 * m) *  sum(arg)   "
   ]
  },
  {
   "cell_type": "code",
   "execution_count": 54,
   "metadata": {},
   "outputs": [
    {
     "data": {
      "text/plain": [
       "array([1.        , 1.41421356, 1.73205081])"
      ]
     },
     "execution_count": 54,
     "metadata": {},
     "output_type": "execute_result"
    }
   ],
   "source": [
    "a = np.array([1, 2, 3])\n",
    "b = np.array([0.1, 0.2, 0.3])\n",
    "np.sqrt(a)"
   ]
  },
  {
   "cell_type": "code",
   "execution_count": 59,
   "metadata": {},
   "outputs": [],
   "source": [
    "batches = generate_batches(m=1, size_data=10, batchs=1, sigma=0.1)"
   ]
  },
  {
   "cell_type": "code",
   "execution_count": 66,
   "metadata": {},
   "outputs": [
    {
     "data": {
      "text/plain": [
       "array([1.        , 0.44979425])"
      ]
     },
     "execution_count": 66,
     "metadata": {},
     "output_type": "execute_result"
    }
   ],
   "source": [
    "sample = batches[0]\n",
    "sample[0][3]"
   ]
  },
  {
   "cell_type": "code",
   "execution_count": 36,
   "metadata": {},
   "outputs": [],
   "source": [
    "import matplotlib.pyplot as plt"
   ]
  },
  {
   "cell_type": "code",
   "execution_count": 37,
   "metadata": {},
   "outputs": [
    {
     "data": {
      "text/plain": [
       "[<matplotlib.lines.Line2D at 0x7fbb10896d60>]"
      ]
     },
     "execution_count": 37,
     "metadata": {},
     "output_type": "execute_result"
    },
    {
     "data": {
      "image/png": "[encoded data removed]",
      "text/plain": [
       "<Figure size 432x288 with 1 Axes>"
      ]
     },
     "metadata": {
      "needs_background": "light"
     },
     "output_type": "display_data"
    }
   ],
   "source": [
    "plt.plot(x[:, 1], y, '.')"
   ]
  },
  {
   "cell_type": "code",
   "execution_count": 34,
   "metadata": {},
   "outputs": [
    {
     "data": {
      "text/plain": [
       "array([[0.58940026],\n",
       "       [0.24017365]])"
      ]
     },
     "execution_count": 34,
     "metadata": {},
     "output_type": "execute_result"
    }
   ],
   "source": [
    "xi"
   ]
  },
  {
   "cell_type": "code",
   "execution_count": null,
   "metadata": {},
   "outputs": [],
   "source": []
  }
 ],
 "metadata": {
  "kernelspec": {
   "display_name": "Python 3",
   "language": "python",
   "name": "python3"
  },
  "language_info": {
   "codemirror_mode": {
    "name": "ipython",
    "version": 3
   },
   "file_extension": ".py",
   "mimetype": "text/x-python",
   "name": "python",
   "nbconvert_exporter": "python",
   "pygments_lexer": "ipython3",
   "version": "3.8.5"
  }
 },
 "nbformat": 4,
 "nbformat_minor": 4
}
