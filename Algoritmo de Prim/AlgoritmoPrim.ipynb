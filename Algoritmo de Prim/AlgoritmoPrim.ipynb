{
 "cells": [
  {
   "cell_type": "markdown",
   "metadata": {},
   "source": [
    "# Algoritmo de Prim"
   ]
  },
  {
   "cell_type": "markdown",
   "metadata": {},
   "source": [
    "Considere un grafo $G$ conexo y no dirigido, se dice que un <b>árbol \tgenerador</b> es un subgrafo que contiene todos los vértices de $G$. En un <b>grafo ponderado</b>, el peso de un subgrafo es la suma de los pesos de cada una de las aristas en el subgrafo. Así, un <b>árbol generador mínimo</b> (MST por sus siglas en inglés) es un subgrafo ponderado no dirigido que es un árbol generador con peso mínimo. "
   ]
  },
  {
   "cell_type": "markdown",
   "metadata": {},
   "source": [
    "Hay muchos problemas en los que se requiere hallar un MST de un grafo no \tdirigido. Por ejemplo, la longitud mínima del cable necesaria para conectar\tun conjunto de computadores en una red, puede ser determinada por un MST \tdel grafo no dirigido que contiene todas las posibles conexiones.  "
   ]
  },
  {
   "cell_type": "markdown",
   "metadata": {},
   "source": [
    "El Algoritmo de Prim, es el primero y el más sencillo de los algoritmos de la teoría de grafos para encontrar un árbol generador mínimo en un grafo ponderado, conexo y no dirigido, este problema se conoce como <b>el \tproblema del árbol generador mínimo</b>. En otras palabras, el algoritmo \tencuentra un subconjunto de aristas que forman un árbol con todos los \tvértices, donde el \tpeso total de todas las aristas en el árbol es el \tmínimo posible. "
   ]
  },
  {
   "cell_type": "markdown",
   "metadata": {},
   "source": [
    "Este algoritmo fue desarrollado por primera vez por el matemático checo Vojtêch Jarník, no sería hasta más tarde, en 1957, cuando aparecería publicado de forma independiente bajo la autoría del ingeniero informático estadounidense Robert C. Prim. Es él quien le dio fama y por cuyo apellido es hoy conocido. Creado durante su etapa en Bell Labs, Prim trataba de abordar el problema de cómo conectar redes, ya fueran de telecomunicaciones o de transporte y distribución, mediante un número reducido o barato de conexiones."
   ]
  },
  {
   "cell_type": "markdown",
   "metadata": {},
   "source": [
    "## ¿Cómo funciona el algoritmo Prim?\n",
    "---"
   ]
  },
  {
   "cell_type": "markdown",
   "metadata": {},
   "source": [
    "La solución al problema del árbol generador propuesta por Prim se basa en la idea de ir conectando vértices secuencialmente hasta alcanzarlos a todos. Si se tiene como dato de entrada un grafo no dirigido $G=(V, A, W)$, donde $V$ son los vértices, $A$ las aristas y $W$ la matriz de pesos. El algoritmo empieza a construir el árbol a partir de un vértice seleccionado arbitrariamente como punto de inicio. A continuación se itera seleccionando en cada etapa la arista de menor peso (una cualquiera si hay varias posibilidades) que une un vértice \n",
    "del árbol con otro que aún no está en él; luego se incorpora dicha arista y el vértice de destino al árbol. El proceso se repite hasta añadir todos los vértices, obteniendo como resultado un árbol generador cuyo peso será mínimo. "
   ]
  },
  {
   "cell_type": "markdown",
   "metadata": {},
   "source": [
    "El algoritmo podría ser informalmente descrito siguiendo los siguientes pasos:"
   ]
  },
  {
   "cell_type": "markdown",
   "metadata": {},
   "source": [
    "1. Inicializar un árbol $T$ con un único vértice, elegido arbitrariamente del grafo $G$.\n",
    "2. Aumentar el árbol por una arista. Encontrar la arista de menor costo de las posibles aristas que pueden conectar el árbol a los vértices que no están aún en el árbol y agregarla al árbol.\n",
    "3. Repetir el paso 2 hasta que todos los vértices del grafo pertenezcan al árbol."
   ]
  },
  {
   "cell_type": "markdown",
   "metadata": {},
   "source": [
    "Con más detalle, se debe implementar el siguiente pseudocódigo:"
   ]
  },
  {
   "cell_type": "markdown",
   "metadata": {},
   "source": [
    "---\n",
    "**Algoritmo de Prim**\n",
    "<blockquote> \n",
    "Input: $G=(V, A, W), s\\in V$    \n",
    "<br>&nbsp; &nbsp;&nbsp;$V^{\\top}\\leftarrow \\{s\\}$\n",
    "<br>&nbsp; &nbsp;&nbsp;$A^{\\top}\\leftarrow \\emptyset$\n",
    "<br>&nbsp; &nbsp;&nbsp;while $card(V^{\\top}) < card(V)$ do:\n",
    "<br>&nbsp; &nbsp;&nbsp;&nbsp; &nbsp;&nbsp;&nbsp;$\\displaystyle (i, j)=\\operatorname*{argmin\\,\\,}_{(i, j)}\\{w_{ij}:i\\in V^{\\top}, j\\in V\\setminus V^{\\top}\\}$\n",
    "<br>&nbsp; &nbsp;&nbsp;&nbsp; &nbsp;&nbsp;&nbsp; $A^{\\top} \\leftarrow A^{\\top}\\cup\\{(i, j)\\}$\n",
    "<br>&nbsp; &nbsp;&nbsp;&nbsp; &nbsp;&nbsp;&nbsp; $V^{\\top} \\leftarrow V^{\\top}\\cup\\{j\\}$   \n",
    "<br>&nbsp; &nbsp;&nbsp;end    \n",
    "<br>return: $T$, $V(T)\\leftarrow V^{\\top}$, $A(T)\\leftarrow A^{\\top}$.\n",
    "\n",
    "</blockquote>\n",
    "\n",
    "---"
   ]
  },
  {
   "cell_type": "markdown",
   "metadata": {},
   "source": [
    "## Ejemplo"
   ]
  },
  {
   "cell_type": "markdown",
   "metadata": {},
   "source": [
    "En la figura 1 se ilustra la ejecución del algoritmo de Prim sobre un grafo $G$. Se empieza por el vértice $v_{_0}$. Dado que $(v_{_0},v_{_1})$ es la arista de peso mínimo que incide sobre $v_{_0}$, se incluye en el árbol generador que se está construyendo (figura 1a}). En la figura 1a , se añade la arista $(v_{_1}, v_{_5})$ porque es la\tarista más pequeña entre $\\{v_{_0}, v_{_1}\\}$ y $V(G)\\setminus \t\\{v_{_0}, v_{_1}\\}$. Cuando hay un empate, como en la figura 1c, cualquier arista más pequeña podría funcionar bien. Se procede de esta forma hasta que se pasa por todos los vértices. El árbol generador mínimo definitivo se muestra en la figura 1f."
   ]
  },
  {
   "cell_type": "code",
   "execution_count": null,
   "metadata": {},
   "outputs": [],
   "source": []
  }
 ],
 "metadata": {
  "kernelspec": {
   "display_name": "Python 3",
   "language": "python",
   "name": "python3"
  },
  "language_info": {
   "codemirror_mode": {
    "name": "ipython",
    "version": 3
   },
   "file_extension": ".py",
   "mimetype": "text/x-python",
   "name": "python",
   "nbconvert_exporter": "python",
   "pygments_lexer": "ipython3",
   "version": "3.8.6"
  }
 },
 "nbformat": 4,
 "nbformat_minor": 4
}
